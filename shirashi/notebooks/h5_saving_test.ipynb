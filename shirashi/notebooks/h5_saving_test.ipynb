{
 "cells": [
  {
   "cell_type": "code",
   "execution_count": 1,
   "metadata": {},
   "outputs": [],
   "source": [
    "import flammkuchen as fl\n",
    "import numpy as np\n",
    "import time\n",
    "import seaborn as sns\n",
    "import pandas as pd\n",
    "import os\n",
    "import matplotlib.pyplot as plt\n",
    "from path import Path\n",
    "%matplotlib inline"
   ]
  },
  {
   "cell_type": "code",
   "execution_count": 2,
   "metadata": {},
   "outputs": [],
   "source": [
    "save_path = Path(r\"E:\\test\")"
   ]
  },
  {
   "cell_type": "code",
   "execution_count": 3,
   "metadata": {},
   "outputs": [],
   "source": [
    "def create_random_data(chunk_size=10, planes=10, roi_x=300, roi_y=300):\n",
    "    data = np.random.randint(low=0, high=65535, size=[chunk_size, planes, roi_x, roi_y], dtype=np.uint16)\n",
    "    return data"
   ]
  },
  {
   "cell_type": "code",
   "execution_count": 4,
   "metadata": {},
   "outputs": [],
   "source": [
    "def save(data, dialog=False, i_file=1, compression_level=1):\n",
    "    start = time.time_ns()\n",
    "    fl.save(\n",
    "        save_path / \"{:04d}.h5\".format(i_file),\n",
    "        {\"stack_4D\": data},\n",
    "        compression=(\"blosc\", compression_level)\n",
    "    )\n",
    "    end = time.time_ns()\n",
    "    if dialog:\n",
    "        print(\"Flammkuchen took {:.2f} seconds to save an array of shape {}\".format((end - start) / 1e9, data.shape))\n",
    "    size = os.path.getsize(save_path /\"{:04d}.h5\".format(i_file)) / 1048576\n",
    "    return (end - start) / 1e9, size"
   ]
  },
  {
   "cell_type": "code",
   "execution_count": 5,
   "metadata": {},
   "outputs": [],
   "source": [
    "def run(n_samples=1, compression_level=1, chunk_sizes=np.arange(1, 11), voxels=(30, 1024, 1024), dialog=False):\n",
    "    times = np.zeros([len(chunk_sizes), n_samples])\n",
    "    sizes = np.zeros([len(chunk_sizes), n_samples])\n",
    "    for i_size, chunk_size in enumerate(chunk_sizes):\n",
    "        for epoch in range(n_samples):\n",
    "            data = create_random_data(chunk_size,*voxels)\n",
    "            times[i_size, epoch], sizes[i_size, epoch] = save(data, i_file=epoch, compression_level=compression_level)\n",
    "        if dialog:\n",
    "            print(\"Data generated for chunk {}\".format(i_size + 1))\n",
    "    return (times, sizes)"
   ]
  },
  {
   "cell_type": "code",
   "execution_count": null,
   "metadata": {},
   "outputs": [],
   "source": [
    "# These are the relevant parameters:\n",
    "n_samples = 5\n",
    "blosc_compressions = np.arange(5, 10)\n",
    "chunk_sizes = np.arange(1, 11)\n",
    "voxels=(30, 1024, 1024)\n",
    "\n",
    "for compression in blosc_compressions:\n",
    "    \n",
    "    data = run(n_samples=n_samples, compression_level=compression, chunk_sizes=chunk_sizes, voxels=voxels)\n",
    "\n",
    "    times_pd = pd.DataFrame(data[0])\n",
    "    times_pd = times_pd.transpose()\n",
    "\n",
    "    sizes_pd = pd.DataFrame(data[1])\n",
    "    sizes_pd = sizes_pd.transpose()\n",
    "\n",
    "    fig, (ax1, ax2) = plt.subplots(nrows=1, ncols=2, figsize=(15, 7))\n",
    "    xi = np.arange(1, len(chunk_sizes) + 1)\n",
    "\n",
    "    time_plot = sns.catplot(data=times_pd, ax=ax1)\n",
    "    ax1.set(xlabel='Volumes per file', ylabel='Saving time (s)')\n",
    "    ax1.set_xticklabels(xi)\n",
    "    plt.clf()\n",
    "\n",
    "    sns.catplot(data=sizes_pd, ax=ax2)\n",
    "    ax2.set(xlabel='Volumes per file', ylabel='Size on disk (MB)')\n",
    "    ax2.set_xticklabels(xi)\n",
    "    plt.clf()\n",
    "    \n",
    "    fig.suptitle(\"Blosc compression: {}\".format(compression), fontsize=30)\n",
    "\n",
    "    fig.savefig(\"saving_test_flammkuchen_blosc_{}.png\".format(compression), dpi=100)"
   ]
  }
 ],
 "metadata": {
  "kernelspec": {
   "display_name": "Python 3",
   "language": "python",
   "name": "python3"
  },
  "language_info": {
   "codemirror_mode": {
    "name": "ipython",
    "version": 3
   },
   "file_extension": ".py",
   "mimetype": "text/x-python",
   "name": "python",
   "nbconvert_exporter": "python",
   "pygments_lexer": "ipython3",
   "version": "3.7.4"
  }
 },
 "nbformat": 4,
 "nbformat_minor": 4
}
